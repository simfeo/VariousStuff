{
 "cells": [
  {
   "cell_type": "code",
   "execution_count": 1,
   "id": "c2c9f990-1270-4c52-843e-4c2c8e975e26",
   "metadata": {},
   "outputs": [],
   "source": [
    "import keras\n",
    "from keras import layers\n",
    "# Use Matplotlib (don't ask)\n",
    "import matplotlib.pyplot as plt"
   ]
  },
  {
   "cell_type": "code",
   "execution_count": 2,
   "id": "13588ba2-3d09-4b41-92d1-f1b710b9f978",
   "metadata": {},
   "outputs": [],
   "source": [
    "from keras.datasets import mnist\n",
    "import numpy as np\n",
    "(x_train, _), (x_test, _) = mnist.load_data()"
   ]
  },
  {
   "cell_type": "code",
   "execution_count": 8,
   "id": "e078c1a4-b612-4100-ad19-d597a3d39560",
   "metadata": {},
   "outputs": [
    {
     "name": "stdout",
     "output_type": "stream",
     "text": [
      "Model: \"model_6\"\n",
      "_________________________________________________________________\n",
      " Layer (type)                Output Shape              Param #   \n",
      "=================================================================\n",
      " input_3 (InputLayer)        [(None, 784)]             0         \n",
      "                                                                 \n",
      " dense_2 (Dense)             (None, 32)                25120     \n",
      "                                                                 \n",
      " dense_3 (Dense)             (None, 784)               25872     \n",
      "                                                                 \n",
      "=================================================================\n",
      "Total params: 50,992\n",
      "Trainable params: 50,992\n",
      "Non-trainable params: 0\n",
      "_________________________________________________________________\n"
     ]
    }
   ],
   "source": [
    "# This is the size of our encoded representations\n",
    "encoding_dim = 32  # 32 floats -> compression of factor 24.5, assuming the input is 784 floats\n",
    "\n",
    "# This is our input image\n",
    "input_img = keras.Input(shape=(784,))\n",
    "# \"encoded\" is the encoded representation of the input\n",
    "encoded = layers.Dense(encoding_dim, activation='relu')(input_img)\n",
    "# \"decoded\" is the lossy reconstruction of the input\n",
    "decoded = layers.Dense(784, activation='sigmoid')(encoded)\n",
    "\n",
    "# This model maps an input to its reconstruction\n",
    "autoencoder = keras.Model(input_img, decoded)\n",
    "# This model maps an input to its encoded representation\n",
    "encoder = keras.Model(input_img, encoded)\n",
    "# This is our encoded (32-dimensional) input\n",
    "encoded_input = keras.Input(shape=(encoding_dim,))\n",
    "# Retrieve the last layer of the autoencoder model\n",
    "decoder_layer = autoencoder.layers[-1]\n",
    "# Create the decoder model\n",
    "decoder = keras.Model(encoded_input, decoder_layer(encoded_input))\n",
    "autoencoder = keras.Model(input_img, decoded)\n",
    "autoencoder.compile(optimizer='adam', loss='binary_crossentropy')\n",
    "autoencoder.summary()"
   ]
  },
  {
   "cell_type": "code",
   "execution_count": null,
   "id": "4a721ce3-d7a2-495d-bb58-4732d4f33ac7",
   "metadata": {},
   "outputs": [],
   "source": [
    "x_train = x_train.astype('float32') / 255.\n",
    "x_test = x_test.astype('float32') / 255.\n",
    "x_train = x_train.reshape((len(x_train), np.prod(x_train.shape[1:])))\n",
    "x_test = x_test.reshape((len(x_test), np.prod(x_test.shape[1:])))\n",
    "print(x_train.shape)\n",
    "print(x_test.shape)"
   ]
  },
  {
   "cell_type": "code",
   "execution_count": 7,
   "id": "862ed915-3dff-4ea4-9be1-b3bf147a8457",
   "metadata": {},
   "outputs": [
    {
     "name": "stdout",
     "output_type": "stream",
     "text": [
      "313/313 [==============================] - 1s 2ms/step\n"
     ]
    },
    {
     "data": {
      "image/png": "[encoded data removed]",
      "text/plain": [
       "<Figure size 2000x400 with 20 Axes>"
      ]
     },
     "metadata": {},
     "output_type": "display_data"
    }
   ],
   "source": [
    "decoded_imgs = autoencoder.predict(x_test)\n",
    "\n",
    "n = 10\n",
    "plt.figure(figsize=(20, 4))\n",
    "for i in range(1, n + 1):\n",
    "    # Display original\n",
    "    ax = plt.subplot(2, n, i)\n",
    "    plt.imshow(x_test[i].reshape(28, 28))\n",
    "    plt.gray()\n",
    "    ax.get_xaxis().set_visible(False)\n",
    "    ax.get_yaxis().set_visible(False)\n",
    "\n",
    "    # Display reconstruction\n",
    "    ax = plt.subplot(2, n, i + n)\n",
    "    plt.imshow(decoded_imgs[i].reshape(28, 28))\n",
    "    plt.gray()\n",
    "    ax.get_xaxis().set_visible(False)\n",
    "    ax.get_yaxis().set_visible(False)\n",
    "plt.show()"
   ]
  },
  {
   "cell_type": "code",
   "execution_count": 3,
   "id": "b7e29acf-333f-4aae-a14b-638e910d56e3",
   "metadata": {},
   "outputs": [
    {
     "name": "stdout",
     "output_type": "stream",
     "text": [
      "Model: \"model\"\n",
      "_________________________________________________________________\n",
      " Layer (type)                Output Shape              Param #   \n",
      "=================================================================\n",
      " input_1 (InputLayer)        [(None, 28, 28, 1)]       0         \n",
      "                                                                 \n",
      " conv2d (Conv2D)             (None, 28, 28, 16)        160       \n",
      "                                                                 \n",
      " max_pooling2d (MaxPooling2D  (None, 14, 14, 16)       0         \n",
      " )                                                               \n",
      "                                                                 \n",
      " conv2d_1 (Conv2D)           (None, 14, 14, 8)         1160      \n",
      "                                                                 \n",
      " max_pooling2d_1 (MaxPooling  (None, 7, 7, 8)          0         \n",
      " 2D)                                                             \n",
      "                                                                 \n",
      " conv2d_2 (Conv2D)           (None, 7, 7, 8)           584       \n",
      "                                                                 \n",
      " max_pooling2d_2 (MaxPooling  (None, 4, 4, 8)          0         \n",
      " 2D)                                                             \n",
      "                                                                 \n",
      " conv2d_3 (Conv2D)           (None, 4, 4, 8)           584       \n",
      "                                                                 \n",
      " up_sampling2d (UpSampling2D  (None, 8, 8, 8)          0         \n",
      " )                                                               \n",
      "                                                                 \n",
      " conv2d_4 (Conv2D)           (None, 8, 8, 8)           584       \n",
      "                                                                 \n",
      " up_sampling2d_1 (UpSampling  (None, 16, 16, 8)        0         \n",
      " 2D)                                                             \n",
      "                                                                 \n",
      " conv2d_5 (Conv2D)           (None, 14, 14, 16)        1168      \n",
      "                                                                 \n",
      " up_sampling2d_2 (UpSampling  (None, 28, 28, 16)       0         \n",
      " 2D)                                                             \n",
      "                                                                 \n",
      " conv2d_6 (Conv2D)           (None, 28, 28, 1)         145       \n",
      "                                                                 \n",
      "=================================================================\n",
      "Total params: 4,385\n",
      "Trainable params: 4,385\n",
      "Non-trainable params: 0\n",
      "_________________________________________________________________\n"
     ]
    }
   ],
   "source": [
    "input_img = keras.Input(shape=(28, 28, 1))\n",
    "\n",
    "x = layers.Conv2D(16, (3, 3), activation='relu', padding='same')(input_img)\n",
    "x = layers.MaxPooling2D((2, 2), padding='same')(x)\n",
    "x = layers.Conv2D(8, (3, 3), activation='relu', padding='same')(x)\n",
    "x = layers.MaxPooling2D((2, 2), padding='same')(x)\n",
    "x = layers.Conv2D(8, (3, 3), activation='relu', padding='same')(x)\n",
    "encoded = layers.MaxPooling2D((2, 2), padding='same')(x)\n",
    "\n",
    "# at this point the representation is (4, 4, 8) i.e. 128-dimensional\n",
    "\n",
    "x = layers.Conv2D(8, (3, 3), activation='relu', padding='same')(encoded)\n",
    "x = layers.UpSampling2D((2, 2))(x)\n",
    "x = layers.Conv2D(8, (3, 3), activation='relu', padding='same')(x)\n",
    "x = layers.UpSampling2D((2, 2))(x)\n",
    "x = layers.Conv2D(16, (3, 3), activation='relu')(x)\n",
    "x = layers.UpSampling2D((2, 2))(x)\n",
    "decoded = layers.Conv2D(1, (3, 3), activation='sigmoid', padding='same')(x)\n",
    "\n",
    "autoencoder = keras.Model(input_img, decoded)\n",
    "autoencoder.compile(optimizer='adam', loss='binary_crossentropy')\n",
    "autoencoder.summary()"
   ]
  },
  {
   "cell_type": "code",
   "execution_count": 41,
   "id": "c6f656f3-a2ea-463e-b89d-d973e0c186aa",
   "metadata": {},
   "outputs": [],
   "source": [
    "input_img = keras.Input(shape=(28, 28, 1))\n",
    "#bottle_neck = 100\n",
    "bottle_neck = 100\n",
    "\n",
    "x = layers.Conv2D(16, (3, 3), activation='relu', padding='same')(input_img)\n",
    "x = layers.MaxPooling2D((2, 2), padding='same')(x)\n",
    "x = layers.Conv2D(8, (3, 3), activation='relu', padding='same')(x)\n",
    "x = layers.MaxPooling2D((2, 2), padding='same')(x)\n",
    "x = layers.Conv2D(8, (3, 3), activation='relu', padding='same')(x)\n",
    "x = layers.MaxPooling2D((2, 2), padding='same')(x)\n",
    "x = layers.Flatten()(x)\n",
    "encoded = layers.Dense(bottle_neck, activation='relu')(x)\n",
    "\n",
    "\n",
    "# at this point the representation is (4, 4, 8) i.e. 128-dimensional\n",
    "\n",
    "d = layers.Dense(256, activation='relu', input_shape=(bottle_neck,))(encoded)\n",
    "d = layers.Reshape((8,8,4))(d)\n",
    "d = layers.Conv2D(8, (3, 3), activation='relu', padding='same')(d)\n",
    "d = layers.UpSampling2D((2, 2))(d)\n",
    "d = layers.Conv2D(8, (3, 3), activation='relu', padding='valid')(d)\n",
    "d = layers.UpSampling2D((2, 2))(d)\n",
    "d = layers.Conv2D(1, (3, 3), activation='sigmoid', padding='same')(d)\n",
    "decoded = d\n",
    "\n",
    "autoencoder = keras.Model(input_img, decoded)\n",
    "autoencoder.compile(optimizer='adam', loss='binary_crossentropy')\n",
    "\n",
    "encoder = keras.Model(input_img, encoded)\n",
    "\n",
    "\n",
    "encoded_input = keras.Input(shape=(bottle_neck,))  # Shape matches the bottleneck\n",
    "x = encoded_input\n",
    "for layer in autoencoder.layers[-7:]:  # Adjust the range as needed\n",
    "    x = layer(x)\n",
    "\n",
    "decoder = keras.Model(encoded_input, x)\n",
    "\n"
   ]
  },
  {
   "cell_type": "code",
   "execution_count": 42,
   "id": "37853c2f-9007-4ddc-9dc8-3c0152880e21",
   "metadata": {},
   "outputs": [
    {
     "name": "stdout",
     "output_type": "stream",
     "text": [
      "Model: \"model_11\"\n",
      "_________________________________________________________________\n",
      " Layer (type)                Output Shape              Param #   \n",
      "=================================================================\n",
      " input_8 (InputLayer)        [(None, 100)]             0         \n",
      "                                                                 \n",
      " dense_7 (Dense)             (None, 256)               25856     \n",
      "                                                                 \n",
      " reshape_3 (Reshape)         (None, 8, 8, 4)           0         \n",
      "                                                                 \n",
      " conv2d_21 (Conv2D)          (None, 8, 8, 8)           296       \n",
      "                                                                 \n",
      " up_sampling2d_6 (UpSampling  (None, 16, 16, 8)        0         \n",
      " 2D)                                                             \n",
      "                                                                 \n",
      " conv2d_22 (Conv2D)          (None, 14, 14, 8)         584       \n",
      "                                                                 \n",
      " up_sampling2d_7 (UpSampling  (None, 28, 28, 8)        0         \n",
      " 2D)                                                             \n",
      "                                                                 \n",
      " conv2d_23 (Conv2D)          (None, 28, 28, 1)         73        \n",
      "                                                                 \n",
      "=================================================================\n",
      "Total params: 26,809\n",
      "Trainable params: 26,809\n",
      "Non-trainable params: 0\n",
      "_________________________________________________________________\n"
     ]
    }
   ],
   "source": [
    "decoder.summary()"
   ]
  },
  {
   "cell_type": "code",
   "execution_count": 5,
   "id": "be93abe1-fbe6-4b95-94cc-fe6d647d47e1",
   "metadata": {},
   "outputs": [],
   "source": [
    "(x_train, _), (x_test, _) = mnist.load_data()\n",
    "\n",
    "x_train = x_train.astype('float32') / 255.\n",
    "x_test = x_test.astype('float32') / 255.\n",
    "x_train = np.reshape(x_train, (len(x_train), 28, 28, 1))\n",
    "x_test = np.reshape(x_test, (len(x_test), 28, 28, 1))"
   ]
  },
  {
   "cell_type": "code",
   "execution_count": 44,
   "id": "b7840306-c8b2-4741-ae49-742dea3d1f28",
   "metadata": {},
   "outputs": [
    {
     "name": "stdout",
     "output_type": "stream",
     "text": [
      "Epoch 1/100\n",
      "235/235 [==============================] - 2s 6ms/step - loss: 0.0825 - val_loss: 0.0817\n",
      "Epoch 2/100\n",
      "235/235 [==============================] - 1s 6ms/step - loss: 0.0825 - val_loss: 0.0816\n",
      "Epoch 3/100\n",
      "235/235 [==============================] - 1s 6ms/step - loss: 0.0823 - val_loss: 0.0818\n",
      "Epoch 4/100\n",
      "235/235 [==============================] - 1s 6ms/step - loss: 0.0823 - val_loss: 0.0820\n",
      "Epoch 5/100\n",
      "235/235 [==============================] - 1s 6ms/step - loss: 0.0823 - val_loss: 0.0813\n",
      "Epoch 6/100\n",
      "235/235 [==============================] - 1s 6ms/step - loss: 0.0822 - val_loss: 0.0816\n",
      "Epoch 7/100\n",
      "235/235 [==============================] - 1s 6ms/step - loss: 0.0822 - val_loss: 0.0813\n",
      "Epoch 8/100\n",
      "235/235 [==============================] - 1s 6ms/step - loss: 0.0821 - val_loss: 0.0812\n",
      "Epoch 9/100\n",
      "235/235 [==============================] - 1s 6ms/step - loss: 0.0821 - val_loss: 0.0813\n",
      "Epoch 10/100\n",
      "235/235 [==============================] - 1s 6ms/step - loss: 0.0820 - val_loss: 0.0814\n",
      "Epoch 11/100\n",
      "235/235 [==============================] - 1s 6ms/step - loss: 0.0820 - val_loss: 0.0811\n",
      "Epoch 12/100\n",
      "235/235 [==============================] - 1s 6ms/step - loss: 0.0820 - val_loss: 0.0813\n",
      "Epoch 13/100\n",
      "235/235 [==============================] - 1s 6ms/step - loss: 0.0819 - val_loss: 0.0813\n",
      "Epoch 14/100\n",
      "235/235 [==============================] - 1s 6ms/step - loss: 0.0818 - val_loss: 0.0811\n",
      "Epoch 15/100\n",
      "235/235 [==============================] - 1s 6ms/step - loss: 0.0819 - val_loss: 0.0811\n",
      "Epoch 16/100\n",
      "235/235 [==============================] - 1s 6ms/step - loss: 0.0818 - val_loss: 0.0808\n",
      "Epoch 17/100\n",
      "235/235 [==============================] - 1s 6ms/step - loss: 0.0818 - val_loss: 0.0811\n",
      "Epoch 18/100\n",
      "235/235 [==============================] - 1s 6ms/step - loss: 0.0817 - val_loss: 0.0808\n",
      "Epoch 19/100\n",
      "235/235 [==============================] - 1s 6ms/step - loss: 0.0817 - val_loss: 0.0808\n",
      "Epoch 20/100\n",
      "235/235 [==============================] - 1s 6ms/step - loss: 0.0817 - val_loss: 0.0811\n",
      "Epoch 21/100\n",
      "235/235 [==============================] - 1s 6ms/step - loss: 0.0816 - val_loss: 0.0808\n",
      "Epoch 22/100\n",
      "235/235 [==============================] - 1s 6ms/step - loss: 0.0816 - val_loss: 0.0811\n",
      "Epoch 23/100\n",
      "235/235 [==============================] - 1s 6ms/step - loss: 0.0815 - val_loss: 0.0809\n",
      "Epoch 24/100\n",
      "235/235 [==============================] - 1s 6ms/step - loss: 0.0815 - val_loss: 0.0810\n",
      "Epoch 25/100\n",
      "235/235 [==============================] - 1s 6ms/step - loss: 0.0814 - val_loss: 0.0811\n",
      "Epoch 26/100\n",
      "235/235 [==============================] - 1s 6ms/step - loss: 0.0814 - val_loss: 0.0805\n",
      "Epoch 27/100\n",
      "235/235 [==============================] - 1s 6ms/step - loss: 0.0814 - val_loss: 0.0806\n",
      "Epoch 28/100\n",
      "235/235 [==============================] - 1s 6ms/step - loss: 0.0813 - val_loss: 0.0810\n",
      "Epoch 29/100\n",
      "235/235 [==============================] - 1s 6ms/step - loss: 0.0812 - val_loss: 0.0803\n",
      "Epoch 30/100\n",
      "235/235 [==============================] - 1s 6ms/step - loss: 0.0813 - val_loss: 0.0806\n",
      "Epoch 31/100\n",
      "235/235 [==============================] - 1s 6ms/step - loss: 0.0812 - val_loss: 0.0805\n",
      "Epoch 32/100\n",
      "235/235 [==============================] - 1s 6ms/step - loss: 0.0812 - val_loss: 0.0803\n",
      "Epoch 33/100\n",
      "235/235 [==============================] - 1s 6ms/step - loss: 0.0811 - val_loss: 0.0805\n",
      "Epoch 34/100\n",
      "235/235 [==============================] - 1s 6ms/step - loss: 0.0811 - val_loss: 0.0805\n",
      "Epoch 35/100\n",
      "235/235 [==============================] - 1s 6ms/step - loss: 0.0811 - val_loss: 0.0806\n",
      "Epoch 36/100\n",
      "235/235 [==============================] - 1s 6ms/step - loss: 0.0810 - val_loss: 0.0801\n",
      "Epoch 37/100\n",
      "235/235 [==============================] - 1s 6ms/step - loss: 0.0810 - val_loss: 0.0805\n",
      "Epoch 38/100\n",
      "235/235 [==============================] - 1s 6ms/step - loss: 0.0810 - val_loss: 0.0806\n",
      "Epoch 39/100\n",
      "235/235 [==============================] - 1s 6ms/step - loss: 0.0810 - val_loss: 0.0807\n",
      "Epoch 40/100\n",
      "235/235 [==============================] - 1s 6ms/step - loss: 0.0809 - val_loss: 0.0801\n",
      "Epoch 41/100\n",
      "235/235 [==============================] - 1s 6ms/step - loss: 0.0808 - val_loss: 0.0800\n",
      "Epoch 42/100\n",
      "235/235 [==============================] - 1s 6ms/step - loss: 0.0809 - val_loss: 0.0805\n",
      "Epoch 43/100\n",
      "235/235 [==============================] - 1s 6ms/step - loss: 0.0808 - val_loss: 0.0805\n",
      "Epoch 44/100\n",
      "235/235 [==============================] - 1s 6ms/step - loss: 0.0809 - val_loss: 0.0807\n",
      "Epoch 45/100\n",
      "235/235 [==============================] - 1s 6ms/step - loss: 0.0807 - val_loss: 0.0799\n",
      "Epoch 46/100\n",
      "235/235 [==============================] - 1s 6ms/step - loss: 0.0807 - val_loss: 0.0798\n",
      "Epoch 47/100\n",
      "235/235 [==============================] - 1s 6ms/step - loss: 0.0807 - val_loss: 0.0798\n",
      "Epoch 48/100\n",
      "235/235 [==============================] - 1s 6ms/step - loss: 0.0807 - val_loss: 0.0802\n",
      "Epoch 49/100\n",
      "235/235 [==============================] - 1s 6ms/step - loss: 0.0806 - val_loss: 0.0797\n",
      "Epoch 50/100\n",
      "235/235 [==============================] - 1s 6ms/step - loss: 0.0806 - val_loss: 0.0798\n",
      "Epoch 51/100\n",
      "235/235 [==============================] - 1s 6ms/step - loss: 0.0806 - val_loss: 0.0796\n",
      "Epoch 52/100\n",
      "235/235 [==============================] - 1s 6ms/step - loss: 0.0806 - val_loss: 0.0800\n",
      "Epoch 53/100\n",
      "235/235 [==============================] - 1s 6ms/step - loss: 0.0805 - val_loss: 0.0800\n",
      "Epoch 54/100\n",
      "235/235 [==============================] - 1s 6ms/step - loss: 0.0806 - val_loss: 0.0801\n",
      "Epoch 55/100\n",
      "235/235 [==============================] - 1s 6ms/step - loss: 0.0805 - val_loss: 0.0797\n",
      "Epoch 56/100\n",
      "235/235 [==============================] - 1s 6ms/step - loss: 0.0804 - val_loss: 0.0796\n",
      "Epoch 57/100\n",
      "235/235 [==============================] - 1s 6ms/step - loss: 0.0804 - val_loss: 0.0796\n",
      "Epoch 58/100\n",
      "235/235 [==============================] - 1s 6ms/step - loss: 0.0804 - val_loss: 0.0798\n",
      "Epoch 59/100\n",
      "235/235 [==============================] - 1s 6ms/step - loss: 0.0804 - val_loss: 0.0795\n",
      "Epoch 60/100\n",
      "235/235 [==============================] - 1s 6ms/step - loss: 0.0804 - val_loss: 0.0796\n",
      "Epoch 61/100\n",
      "235/235 [==============================] - 1s 6ms/step - loss: 0.0804 - val_loss: 0.0796\n",
      "Epoch 62/100\n",
      "235/235 [==============================] - 2s 6ms/step - loss: 0.0803 - val_loss: 0.0797\n",
      "Epoch 63/100\n",
      "235/235 [==============================] - 1s 6ms/step - loss: 0.0803 - val_loss: 0.0798\n",
      "Epoch 64/100\n",
      "235/235 [==============================] - 1s 6ms/step - loss: 0.0803 - val_loss: 0.0797\n",
      "Epoch 65/100\n",
      "235/235 [==============================] - 2s 7ms/step - loss: 0.0802 - val_loss: 0.0796\n",
      "Epoch 66/100\n",
      "235/235 [==============================] - 1s 6ms/step - loss: 0.0802 - val_loss: 0.0797\n",
      "Epoch 67/100\n",
      "235/235 [==============================] - 2s 8ms/step - loss: 0.0802 - val_loss: 0.0799\n",
      "Epoch 68/100\n",
      "235/235 [==============================] - 2s 7ms/step - loss: 0.0802 - val_loss: 0.0796\n",
      "Epoch 69/100\n",
      "235/235 [==============================] - 1s 6ms/step - loss: 0.0802 - val_loss: 0.0791\n",
      "Epoch 70/100\n",
      "235/235 [==============================] - 1s 6ms/step - loss: 0.0801 - val_loss: 0.0792\n",
      "Epoch 71/100\n",
      "235/235 [==============================] - 2s 7ms/step - loss: 0.0801 - val_loss: 0.0794\n",
      "Epoch 72/100\n",
      "235/235 [==============================] - 2s 7ms/step - loss: 0.0801 - val_loss: 0.0792\n",
      "Epoch 73/100\n",
      "235/235 [==============================] - 1s 6ms/step - loss: 0.0801 - val_loss: 0.0794\n",
      "Epoch 74/100\n",
      "235/235 [==============================] - 1s 6ms/step - loss: 0.0800 - val_loss: 0.0793\n",
      "Epoch 75/100\n",
      "235/235 [==============================] - 1s 6ms/step - loss: 0.0800 - val_loss: 0.0795\n",
      "Epoch 76/100\n",
      "235/235 [==============================] - 1s 6ms/step - loss: 0.0800 - val_loss: 0.0794\n",
      "Epoch 77/100\n",
      "235/235 [==============================] - 1s 6ms/step - loss: 0.0800 - val_loss: 0.0791\n",
      "Epoch 78/100\n",
      "235/235 [==============================] - 2s 7ms/step - loss: 0.0799 - val_loss: 0.0791\n",
      "Epoch 79/100\n",
      "235/235 [==============================] - 1s 6ms/step - loss: 0.0799 - val_loss: 0.0791\n",
      "Epoch 80/100\n",
      "235/235 [==============================] - 1s 6ms/step - loss: 0.0800 - val_loss: 0.0792\n",
      "Epoch 81/100\n",
      "235/235 [==============================] - 1s 6ms/step - loss: 0.0799 - val_loss: 0.0789\n",
      "Epoch 82/100\n",
      "235/235 [==============================] - 1s 6ms/step - loss: 0.0798 - val_loss: 0.0794\n",
      "Epoch 83/100\n",
      "235/235 [==============================] - 1s 6ms/step - loss: 0.0799 - val_loss: 0.0789\n",
      "Epoch 84/100\n",
      "235/235 [==============================] - 1s 6ms/step - loss: 0.0799 - val_loss: 0.0795\n",
      "Epoch 85/100\n",
      "235/235 [==============================] - 1s 6ms/step - loss: 0.0798 - val_loss: 0.0791\n",
      "Epoch 86/100\n",
      "235/235 [==============================] - 1s 6ms/step - loss: 0.0798 - val_loss: 0.0791\n",
      "Epoch 87/100\n",
      "235/235 [==============================] - 1s 6ms/step - loss: 0.0798 - val_loss: 0.0789\n",
      "Epoch 88/100\n",
      "235/235 [==============================] - 1s 6ms/step - loss: 0.0797 - val_loss: 0.0791\n",
      "Epoch 89/100\n",
      "235/235 [==============================] - 1s 6ms/step - loss: 0.0797 - val_loss: 0.0790\n",
      "Epoch 90/100\n",
      "235/235 [==============================] - 2s 7ms/step - loss: 0.0798 - val_loss: 0.0789\n",
      "Epoch 91/100\n",
      "235/235 [==============================] - 2s 6ms/step - loss: 0.0798 - val_loss: 0.0791\n",
      "Epoch 92/100\n",
      "235/235 [==============================] - 2s 6ms/step - loss: 0.0797 - val_loss: 0.0790\n",
      "Epoch 93/100\n",
      "235/235 [==============================] - 1s 6ms/step - loss: 0.0797 - val_loss: 0.0790\n",
      "Epoch 94/100\n",
      "235/235 [==============================] - 1s 6ms/step - loss: 0.0797 - val_loss: 0.0788\n",
      "Epoch 95/100\n",
      "235/235 [==============================] - 1s 6ms/step - loss: 0.0796 - val_loss: 0.0789\n",
      "Epoch 96/100\n",
      "235/235 [==============================] - 1s 6ms/step - loss: 0.0796 - val_loss: 0.0790\n",
      "Epoch 97/100\n",
      "235/235 [==============================] - 1s 6ms/step - loss: 0.0796 - val_loss: 0.0788\n",
      "Epoch 98/100\n",
      "235/235 [==============================] - 1s 6ms/step - loss: 0.0796 - val_loss: 0.0791\n",
      "Epoch 99/100\n",
      "235/235 [==============================] - 1s 6ms/step - loss: 0.0796 - val_loss: 0.0790\n",
      "Epoch 100/100\n",
      "235/235 [==============================] - 1s 6ms/step - loss: 0.0795 - val_loss: 0.0790\n"
     ]
    },
    {
     "data": {
      "text/plain": [
       "<keras.callbacks.History at 0x24516149960>"
      ]
     },
     "execution_count": 44,
     "metadata": {},
     "output_type": "execute_result"
    }
   ],
   "source": [
    "autoencoder.fit(x_train, x_train,\n",
    "                epochs=100,\n",
    "                batch_size=256,\n",
    "                shuffle=True,\n",
    "                validation_data=(x_test, x_test))"
   ]
  },
  {
   "cell_type": "code",
   "execution_count": 17,
   "id": "699b2cbd-7206-473a-aa8c-bc571de7c8bb",
   "metadata": {},
   "outputs": [
    {
     "name": "stdout",
     "output_type": "stream",
     "text": [
      "313/313 [==============================] - 0s 1ms/step\n",
      "313/313 [==============================] - 0s 1ms/step\n"
     ]
    }
   ],
   "source": [
    "# Encode and decode some digits\n",
    "# Note that we take them from the *test* set\n",
    "encoded_imgs = encoder.predict(x_test)\n",
    "decoded_imgs = decoder.predict(encoded_imgs)"
   ]
  },
  {
   "cell_type": "code",
   "execution_count": 46,
   "id": "e3e6ce90-1d8a-42f7-bd1c-593277a5c90a",
   "metadata": {},
   "outputs": [
    {
     "name": "stdout",
     "output_type": "stream",
     "text": [
      "313/313 [==============================] - 1s 2ms/step\n",
      "313/313 [==============================] - 1s 1ms/step\n"
     ]
    }
   ],
   "source": [
    "# Encode and decode some digits\n",
    "# Note that we take them from the *test* set\n",
    "encoded_imgs = encoder.predict(x_test)\n",
    "decoded_imgs = decoder.predict(encoded_imgs)"
   ]
  },
  {
   "cell_type": "code",
   "execution_count": 47,
   "id": "30332c0c-2cc8-4c35-9b15-153ea8f7b36a",
   "metadata": {},
   "outputs": [
    {
     "data": {
      "image/png": "[encoded data removed]",
      "text/plain": [
       "<Figure size 2000x400 with 20 Axes>"
      ]
     },
     "metadata": {},
     "output_type": "display_data"
    }
   ],
   "source": [
    "n = 10  # How many digits we will display\n",
    "plt.figure(figsize=(20, 4))\n",
    "for i in range(n):\n",
    "    # Display original\n",
    "    ax = plt.subplot(2, n, i + 1)\n",
    "    plt.imshow(x_test[i].reshape(28, 28))\n",
    "    plt.gray()\n",
    "    ax.get_xaxis().set_visible(False)\n",
    "    ax.get_yaxis().set_visible(False)\n",
    "\n",
    "    # Display reconstruction\n",
    "    ax = plt.subplot(2, n, i + 1 + n)\n",
    "    plt.imshow(decoded_imgs[i].reshape(28, 28))\n",
    "    plt.gray()\n",
    "    ax.get_xaxis().set_visible(False)\n",
    "    ax.get_yaxis().set_visible(False)\n",
    "plt.show()"
   ]
  },
  {
   "cell_type": "code",
   "execution_count": 76,
   "id": "dc438645-748a-48be-be23-36d704a92747",
   "metadata": {},
   "outputs": [
    {
     "data": {
      "text/plain": [
       "[<tf.Variable 'dense_37/kernel:0' shape=(100, 256) dtype=float32, numpy=\n",
       " array([[-0.14136717,  0.15842658,  0.08662361, ...,  0.06106624,\n",
       "          0.03150683, -0.04678136],\n",
       "        [-0.00100974, -0.07380592,  0.08611279, ..., -0.12328318,\n",
       "         -0.11961971, -0.09756553],\n",
       "        [-0.0175764 ,  0.37367204, -0.04928469, ..., -0.12679368,\n",
       "         -0.09400386, -0.15286098],\n",
       "        ...,\n",
       "        [ 0.06427953,  0.10001442,  0.08481194, ...,  0.09225887,\n",
       "          0.00787264,  0.06276934],\n",
       "        [ 0.03545003,  0.13217019, -0.10933516, ...,  0.01965261,\n",
       "         -0.03207771,  0.014554  ],\n",
       "        [-0.03970597, -0.35132226, -0.02247722, ...,  0.3921775 ,\n",
       "         -0.04382756,  0.1772918 ]], dtype=float32)>,\n",
       " <tf.Variable 'dense_37/bias:0' shape=(256,) dtype=float32, numpy=\n",
       " array([-1.91877466e-02,  1.53531954e-01, -2.68591158e-02, -4.71024439e-02,\n",
       "        -5.30096553e-02, -1.11371512e-02, -1.18419491e-02,  2.92068999e-02,\n",
       "        -1.72040537e-01,  6.13397397e-02,  1.08488627e-01, -1.31815150e-02,\n",
       "        -1.66282896e-02, -1.86496094e-01, -1.44359260e-03, -2.04844903e-02,\n",
       "         9.68608819e-03, -3.78602669e-02, -1.18255690e-02, -1.77734774e-02,\n",
       "        -5.31117022e-02,  1.42064476e-02, -1.61101278e-02, -2.50729546e-02,\n",
       "        -2.27723457e-02, -2.56406795e-03,  6.87559620e-02, -1.26847038e-02,\n",
       "         3.23244110e-02, -1.89050958e-02, -1.43818185e-03, -1.61765844e-01,\n",
       "        -1.39088899e-01,  1.04018919e-01, -2.05835961e-02, -2.17268035e-01,\n",
       "        -1.28752803e-02, -4.35172021e-02, -1.23253288e-02, -1.11396216e-01,\n",
       "         9.67941880e-02, -8.74067396e-02, -1.82628643e-03, -8.23343452e-03,\n",
       "         2.26787906e-02, -4.11753207e-02,  1.12171583e-01,  3.76107581e-02,\n",
       "         9.18741673e-02, -8.38535726e-02,  3.98818478e-02,  7.36097097e-02,\n",
       "         2.83770170e-02, -9.18892212e-03, -4.89967726e-02,  4.16123569e-02,\n",
       "         7.42722303e-02, -2.36831624e-02,  4.58053760e-02,  1.47966146e-01,\n",
       "         7.71379098e-02, -1.45046353e-01,  1.32819206e-01,  1.02224283e-01,\n",
       "        -3.32116410e-02, -1.32537540e-02, -2.00904205e-01, -2.84784865e-02,\n",
       "         8.11260761e-05, -5.00919018e-03, -5.87323606e-02, -1.46946926e-02,\n",
       "        -2.94186897e-03,  6.41472042e-02,  1.76939480e-02, -5.90881445e-02,\n",
       "        -5.25286794e-02, -2.94086635e-02,  7.04187900e-02,  2.97927745e-02,\n",
       "        -8.11231136e-03, -1.78074930e-02, -3.52146570e-03, -2.26546023e-02,\n",
       "         2.38234196e-02,  3.88125181e-02, -6.90294430e-03, -5.36815971e-02,\n",
       "         1.35120377e-01, -1.28983721e-01,  8.84291604e-02,  1.92942824e-02,\n",
       "        -9.71988402e-03, -2.09593400e-01,  4.15184833e-02,  9.88711640e-02,\n",
       "        -1.43276662e-01,  1.34180292e-01, -1.03035104e-02, -1.13290951e-01,\n",
       "         1.15451971e-02,  7.81617761e-02, -4.96197678e-02, -5.39920107e-02,\n",
       "         1.03551902e-01,  1.02675632e-02, -2.14629062e-02,  2.46428289e-02,\n",
       "        -3.98269296e-03, -2.05893372e-03, -1.45158041e-02,  4.20106761e-02,\n",
       "        -1.51696755e-02, -1.18786190e-02, -1.49053466e-02,  1.51686277e-02,\n",
       "        -1.55154318e-02, -3.96929905e-02, -5.68593852e-02, -9.27027781e-03,\n",
       "         7.01514110e-02, -3.25515009e-02, -2.64358521e-02, -9.80666373e-03,\n",
       "         0.00000000e+00, -1.53077036e-01,  7.78289884e-02,  6.08332604e-02,\n",
       "        -4.95039932e-02, -1.99033949e-03, -2.80670732e-01, -1.01956716e-02,\n",
       "        -5.03011420e-02,  1.07445242e-02, -6.99250400e-02, -7.24823922e-02,\n",
       "        -1.29488716e-02,  8.21313784e-02, -2.28111073e-02,  3.88242379e-02,\n",
       "         2.71469215e-03, -1.32944621e-02, -6.67852117e-03,  1.34397531e-02,\n",
       "         2.78753205e-03, -4.32410799e-02, -9.95360035e-03,  5.55748306e-02,\n",
       "        -3.88149754e-03, -5.14338836e-02, -1.09413844e-02, -1.03399716e-02,\n",
       "         1.59884855e-01, -1.43442592e-02, -1.02119269e-02, -1.39653003e-02,\n",
       "        -2.82382723e-02, -1.58837348e-01, -6.08016402e-02,  1.00297898e-01,\n",
       "        -4.73749125e-03,  3.64709273e-02, -2.55407214e-01, -1.32492602e-01,\n",
       "         1.23666368e-01,  2.06065223e-01, -1.04879774e-01, -2.09695473e-02,\n",
       "         3.53745222e-02, -1.22416178e-02,  1.11636698e-01,  2.65298411e-02,\n",
       "         3.99955846e-02, -2.33687591e-02,  8.79140422e-02,  2.60004997e-02,\n",
       "        -1.12178646e-01,  1.61538627e-02, -2.04765871e-02, -1.07208621e-02,\n",
       "        -1.68349314e-02, -4.94153891e-03, -2.53653973e-02,  1.06827609e-01,\n",
       "         4.70205732e-02, -9.24244374e-02, -1.49463294e-02, -1.23084327e-02,\n",
       "         8.52519870e-02, -1.27670005e-01, -4.92908023e-02, -2.30627265e-02,\n",
       "        -1.34199355e-02,  2.25322291e-01, -2.52005756e-01, -9.56972782e-03,\n",
       "        -8.06220472e-02,  9.78753343e-02, -1.12364274e-02, -1.69270590e-01,\n",
       "        -1.56293344e-03,  7.26732016e-02, -1.76171660e-02,  6.98929355e-02,\n",
       "        -5.48193743e-03,  0.00000000e+00, -2.79758330e-02, -4.04485688e-02,\n",
       "         1.88327953e-01, -7.79850548e-03, -1.98131390e-02, -1.55608607e-02,\n",
       "         1.54084474e-01, -8.32546502e-03, -2.60222964e-02, -2.46505067e-02,\n",
       "         0.00000000e+00, -1.92957968e-02,  6.61738738e-02, -1.37569197e-02,\n",
       "         4.95909117e-02, -1.20922372e-01, -1.45301427e-04,  1.31495535e-01,\n",
       "         1.35527879e-01,  4.29629028e-01, -7.05046812e-03, -1.42967403e-01,\n",
       "         2.69851387e-01,  4.86048311e-02, -1.07084466e-02,  1.65353701e-01,\n",
       "         1.05371676e-01,  2.48343293e-02,  4.62406352e-02,  2.12211937e-01,\n",
       "        -1.29888216e-02,  6.48148060e-02, -8.86330102e-03,  1.07388519e-01,\n",
       "         5.97973131e-02,  1.39191803e-02, -1.34447524e-02,  1.67770907e-01,\n",
       "        -8.27075168e-02,  6.23338521e-02, -1.79858208e-02,  9.83244479e-02,\n",
       "         2.68347189e-02, -6.70924969e-03,  6.24375977e-03,  1.03422455e-01,\n",
       "        -6.06062151e-02, -1.66469559e-01,  3.75774540e-02,  1.36205524e-01],\n",
       "       dtype=float32)>]"
      ]
     },
     "execution_count": 76,
     "metadata": {},
     "output_type": "execute_result"
    }
   ],
   "source": [
    "autoencoder.layers[-7].weights"
   ]
  },
  {
   "cell_type": "code",
   "execution_count": 40,
   "id": "ce29dffc-7d34-4480-8c1d-f4e8534717aa",
   "metadata": {},
   "outputs": [
    {
     "data": {
      "image/png": "[encoded data removed]",
      "text/plain": [
       "<Figure size 640x480 with 1 Axes>"
      ]
     },
     "metadata": {},
     "output_type": "display_data"
    },
    {
     "name": "stdout",
     "output_type": "stream",
     "text": [
      "1/1 [==============================] - 0s 15ms/step\n"
     ]
    },
    {
     "data": {
      "image/png": "[encoded data removed]",
      "text/plain": [
       "<Figure size 640x480 with 1 Axes>"
      ]
     },
     "metadata": {},
     "output_type": "display_data"
    }
   ],
   "source": [
    "from IPython import display\n",
    "from IPython.display import Image as IPythonImage\n",
    "\n",
    "for i in range(100):\n",
    "    display.clear_output(wait=True)\n",
    "    display.display(plt.gcf())\n",
    "    #noise = np.random.rand(1,100)\n",
    "    noise = np.zeros((1,bottle_neck))\n",
    "    noise[0][0]=i/4.0\n",
    "    decoded_noise = decoder.predict(noise)\n",
    "    plt.title(\"Image num {:3}\".format(i))\n",
    "    plt.imshow(decoded_noise[0].reshape(28, 28))"
   ]
  },
  {
   "cell_type": "code",
   "execution_count": 38,
   "id": "638d67c3-8635-4752-a79e-92c3a4984e03",
   "metadata": {},
   "outputs": [
    {
     "data": {
      "text/plain": [
       "0.0"
      ]
     },
     "execution_count": 38,
     "metadata": {},
     "output_type": "execute_result"
    }
   ],
   "source": [
    "np.min(encoded_imgs)"
   ]
  },
  {
   "cell_type": "code",
   "execution_count": null,
   "id": "ca525e1e-5225-4c6b-b86a-0e9f6f3b8ba2",
   "metadata": {},
   "outputs": [],
   "source": [
    "\n",
    "\n",
    "\n",
    "\n",
    "\n",
    "\n",
    "\n",
    "\n",
    "\n",
    "\n",
    "\n",
    "\n",
    "\n",
    "\n",
    "\n"
   ]
  },
  {
   "cell_type": "code",
   "execution_count": null,
   "id": "b438e168-99c8-499e-b393-8bf7d8fa1133",
   "metadata": {},
   "outputs": [],
   "source": []
  }
 ],
 "metadata": {
  "kernelspec": {
   "display_name": "Python 3 (ipykernel)",
   "language": "python",
   "name": "python3"
  },
  "language_info": {
   "codemirror_mode": {
    "name": "ipython",
    "version": 3
   },
   "file_extension": ".py",
   "mimetype": "text/x-python",
   "name": "python",
   "nbconvert_exporter": "python",
   "pygments_lexer": "ipython3",
   "version": "3.10.7"
  }
 },
 "nbformat": 4,
 "nbformat_minor": 5
}
