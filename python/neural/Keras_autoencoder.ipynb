{
 "cells": [
  {
   "cell_type": "code",
   "execution_count": 1,
   "id": "121008dd-115d-48d7-9e85-024737be20cf",
   "metadata": {},
   "outputs": [],
   "source": [
    "import pandas as pd\n",
    "import numpy as np\n",
    "%matplotlib inline\n",
    "import matplotlib.pyplot as plt"
   ]
  },
  {
   "cell_type": "code",
   "execution_count": 2,
   "id": "a5212bf3-dc17-4d67-8544-16ed9b2fcd43",
   "metadata": {},
   "outputs": [],
   "source": [
    "from tensorflow.keras.models import Sequential\n",
    "#from tensorflow.keras.layers import Dense, Conv2D, Conv2DTranspose, Flatten, Activation, Reshape\n",
    "from tensorflow.keras import layers\n",
    "import tensorflow.keras.backend as K\n",
    "from tensorflow.keras.layers import MaxPool2D, AvgPool2D\n",
    "from tensorflow.keras.initializers import Zeros\n",
    "from tensorflow import keras"
   ]
  },
  {
   "cell_type": "code",
   "execution_count": 3,
   "id": "e535e43f-fc39-4e72-b98a-817f5c3c3951",
   "metadata": {},
   "outputs": [
    {
     "name": "stdout",
     "output_type": "stream",
     "text": [
      "Model: \"model\"\n",
      "_________________________________________________________________\n",
      " Layer (type)                Output Shape              Param #   \n",
      "=================================================================\n",
      " input_1 (InputLayer)        [(None, 128, 256, 4)]     0         \n",
      "                                                                 \n",
      " conv2d (Conv2D)             (None, 128, 256, 32)      1184      \n",
      "                                                                 \n",
      " max_pooling2d (MaxPooling2D  (None, 64, 128, 32)      0         \n",
      " )                                                               \n",
      "                                                                 \n",
      " conv2d_1 (Conv2D)           (None, 64, 128, 64)       18496     \n",
      "                                                                 \n",
      " max_pooling2d_1 (MaxPooling  (None, 32, 64, 64)       0         \n",
      " 2D)                                                             \n",
      "                                                                 \n",
      " conv2d_2 (Conv2D)           (None, 32, 64, 128)       73856     \n",
      "                                                                 \n",
      " max_pooling2d_2 (MaxPooling  (None, 16, 32, 128)      0         \n",
      " 2D)                                                             \n",
      "                                                                 \n",
      " flatten (Flatten)           (None, 65536)             0         \n",
      "                                                                 \n",
      " dense (Dense)               (None, 128)               8388736   \n",
      "                                                                 \n",
      " dense_1 (Dense)             (None, 65536)             8454144   \n",
      "                                                                 \n",
      " reshape (Reshape)           (None, 16, 32, 128)       0         \n",
      "                                                                 \n",
      " conv2d_3 (Conv2D)           (None, 16, 32, 128)       147584    \n",
      "                                                                 \n",
      " up_sampling2d (UpSampling2D  (None, 32, 64, 128)      0         \n",
      " )                                                               \n",
      "                                                                 \n",
      " conv2d_4 (Conv2D)           (None, 32, 64, 64)        73792     \n",
      "                                                                 \n",
      " up_sampling2d_1 (UpSampling  (None, 64, 128, 64)      0         \n",
      " 2D)                                                             \n",
      "                                                                 \n",
      " conv2d_5 (Conv2D)           (None, 64, 128, 32)       18464     \n",
      "                                                                 \n",
      " up_sampling2d_2 (UpSampling  (None, 128, 256, 32)     0         \n",
      " 2D)                                                             \n",
      "                                                                 \n",
      " conv2d_6 (Conv2D)           (None, 128, 256, 4)       1156      \n",
      "                                                                 \n",
      "=================================================================\n",
      "Total params: 17,177,412\n",
      "Trainable params: 17,177,412\n",
      "Non-trainable params: 0\n",
      "_________________________________________________________________\n"
     ]
    }
   ],
   "source": [
    "\"\"\"K.clear_session\n",
    "initializer = Zeros()\n",
    "model = Sequential()\n",
    "\n",
    "model.add(Conv2D(256, (3, 3), input_shape=(4,128,256), activation=\"relu\", data_format='channels_first',kernel_initializer=initializer))\n",
    "model.add(Conv2D(128, (3, 3), activation=\"relu\",kernel_initializer=initializer))\n",
    "model.add(Conv2D(64, (4, 4), activation=\"relu\",kernel_initializer=initializer))\n",
    "model.add(Conv2D(64, (4, 4), activation=\"relu\",kernel_initializer=initializer))\n",
    "model.add(Conv2D(32, (8, 8), activation=\"relu\",kernel_initializer=initializer))\n",
    "model.add(Conv2D(16, (8, 8), activation=\"relu\",kernel_initializer=initializer))\n",
    "model.add(Conv2D(8, (16, 16), activation=\"relu\",kernel_initializer=initializer))\n",
    "model.add(Conv2D(8, (16, 16), activation=\"relu\",kernel_initializer=initializer))\n",
    "model.add(Conv2D(8, (16, 16), activation=\"relu\",kernel_initializer=initializer))\n",
    "model.add(Conv2D(4, (16, 16), activation=\"relu\",kernel_initializer=initializer))\n",
    "model.add(Conv2D(4, (16, 16), activation=\"relu\",kernel_initializer=initializer))\n",
    "model.add(Conv2D(4, (16, 16), activation=\"relu\",kernel_initializer=initializer))\n",
    "model.add(Conv2D(4, (8, 8), activation=\"relu\",kernel_initializer=initializer))\n",
    "model.add(Conv2D(4, (4, 4), activation=\"relu\",kernel_initializer=initializer))\n",
    "model.add(Conv2D(4, (4, 4), activation=\"relu\",kernel_initializer=initializer))\n",
    "model.add(Flatten())\n",
    "\n",
    "model.add(Dense(512, activation=\"relu\", input_shape=(128,),kernel_initializer=initializer))\n",
    "model.add(Dense(512,activation=\"relu\",kernel_initializer=initializer))\n",
    "model.add(Reshape((64, 1, 8)))\n",
    "model.add(Conv2DTranspose(32, (4, 4), activation=\"relu\",padding=\"same\",strides=2,kernel_initializer=initializer))\n",
    "model.add(Conv2DTranspose(16, (4, 4), activation=\"relu\",padding=\"same\",strides=2,kernel_initializer=initializer))\n",
    "model.add(Conv2DTranspose(8, (4, 4), activation=\"relu\",padding=\"same\",strides=2,kernel_initializer=initializer))\n",
    "model.add(Conv2DTranspose(4, (4, 4), activation=\"relu\",padding=\"same\",strides=2,kernel_initializer=initializer))\n",
    "model.add(Conv2DTranspose(2, (4, 4), activation=\"relu\",padding=\"same\",strides=2,kernel_initializer=initializer))\n",
    "model.add(Flatten())\n",
    "#model.add(Dense(4*128*256,activation=\"relu\"))\n",
    "model.add(Activation(\"tanh\"))\n",
    "model.add(Reshape((4, 128, 256)))\n",
    "\n",
    "model.compile(loss='mse',\n",
    "              optimizer='adam',\n",
    "              metrics=['accuracy'])\"\"\"\n",
    "\n",
    "K.clear_session\n",
    "def create_autoencoder():\n",
    "    # Input layer\n",
    "    input_img = keras.Input(shape=(128, 256, 4))\n",
    "\n",
    "    # Encoder\n",
    "    x = layers.Conv2D(32, (3, 3), activation='relu', padding='same')(input_img)\n",
    "    x = layers.MaxPooling2D((2, 2), padding='same')(x)  # 64x128x32\n",
    "    x = layers.Conv2D(64, (3, 3), activation='relu', padding='same')(x)\n",
    "    x = layers.MaxPooling2D((2, 2), padding='same')(x)  # 32x64x64\n",
    "    x = layers.Conv2D(128, (3, 3), activation='relu', padding='same')(x)\n",
    "    x = layers.MaxPooling2D((2, 2), padding='same')(x)  # 16x32x128\n",
    "\n",
    "    # Bottleneck (Dense layer)\n",
    "    x = layers.Flatten()(x) # Flatten to feed into dense layer\n",
    "    encoded = layers.Dense(128, activation='relu')(x)\n",
    "\n",
    "    # Decoder\n",
    "    x = layers.Dense(16 * 32 * 128, activation='relu')(encoded)  # Expand back to the spatial dimensions before the bottleneck\n",
    "    x = layers.Reshape((16, 32, 128))(x) # Reshape to match the output of the last max pooling\n",
    "\n",
    "    x = layers.Conv2D(128, (3, 3), activation='relu', padding='same')(x)\n",
    "    x = layers.UpSampling2D((2, 2))(x)  # 32x64x128\n",
    "    x = layers.Conv2D(64, (3, 3), activation='relu', padding='same')(x)\n",
    "    x = layers.UpSampling2D((2, 2))(x)  # 64x128x64\n",
    "    x = layers.Conv2D(32, (3, 3), activation='relu', padding='same')(x)\n",
    "    x = layers.UpSampling2D((2, 2))(x)  # 128x256x32\n",
    "    decoded = layers.Conv2D(4, (3, 3), activation='sigmoid', padding='same')(x) # Output with 4 channels\n",
    "\n",
    "    # Autoencoder model\n",
    "    autoencoder = keras.Model(input_img, decoded)\n",
    "    return autoencoder\n",
    "\n",
    "# Create and compile the autoencoder\n",
    "autoencoder = create_autoencoder()\n",
    "autoencoder.compile(optimizer='adam', loss='mse',metrics=['accuracy']) # Adjust loss function as needed\n",
    "autoencoder.summary()\n"
   ]
  },
  {
   "cell_type": "code",
   "execution_count": 4,
   "id": "46c8ece8-0f8e-4ce4-8aaa-6d379bf83f6d",
   "metadata": {},
   "outputs": [
    {
     "data": {
      "text/plain": [
       "'\\nK.clear_session\\nmodel = Sequential()\\n\\nmodel.add(Conv2D(256, (3, 3), input_shape=(128,256,4), activation=\"relu\"))\\nmodel.add(Conv2D(64, (3, 3), activation=\"relu\"))\\nmodel.add(Conv2D(32, (3, 3), activation=\"relu\"))\\nmodel.add(Dense(100, activation=\"relu\", input_shape=(100,)))\\nmodel.add(Conv2DTranspose(16, (3, 3), activation=\"relu\", strides=1, padding=\"valid\"))\\nmodel.add(Conv2DTranspose(8, (3, 3), activation=\"relu\", strides=1, padding=\"valid\"))\\nmodel.add(Conv2DTranspose(4, (3, 3), activation=\"relu\", strides=1, padding=\"valid\"))\\nmodel.add(Flatten())\\nmodel.add(Activation(\"tanh\"))\\nmodel.add(Reshape((4, 128, 256)))\\n\\nmodel.compile(loss=\\'categorical_crossentropy\\',\\n              optimizer=\\'rmsprop\\',\\n              metrics=[\\'accuracy\\'])\\n'"
      ]
     },
     "execution_count": 4,
     "metadata": {},
     "output_type": "execute_result"
    }
   ],
   "source": [
    "\"\"\"\n",
    "K.clear_session\n",
    "model = Sequential()\n",
    "\n",
    "model.add(Conv2D(256, (3, 3), input_shape=(128,256,4), activation=\"relu\"))\n",
    "model.add(Conv2D(64, (3, 3), activation=\"relu\"))\n",
    "model.add(Conv2D(32, (3, 3), activation=\"relu\"))\n",
    "model.add(Dense(100, activation=\"relu\", input_shape=(100,)))\n",
    "model.add(Conv2DTranspose(16, (3, 3), activation=\"relu\", strides=1, padding=\"valid\"))\n",
    "model.add(Conv2DTranspose(8, (3, 3), activation=\"relu\", strides=1, padding=\"valid\"))\n",
    "model.add(Conv2DTranspose(4, (3, 3), activation=\"relu\", strides=1, padding=\"valid\"))\n",
    "model.add(Flatten())\n",
    "model.add(Activation(\"tanh\"))\n",
    "model.add(Reshape((4, 128, 256)))\n",
    "\n",
    "model.compile(loss='categorical_crossentropy',\n",
    "              optimizer='rmsprop',\n",
    "              metrics=['accuracy'])\n",
    "\"\"\"\n",
    "#model.summary()"
   ]
  },
  {
   "cell_type": "code",
   "execution_count": 5,
   "id": "6df33a05-dba6-434b-b58e-d569a284b426",
   "metadata": {},
   "outputs": [],
   "source": [
    "from tensorflow.keras.preprocessing.image import ImageDataGenerator"
   ]
  },
  {
   "cell_type": "code",
   "execution_count": 6,
   "id": "10d95486-2d04-494c-8a14-4fced34a556a",
   "metadata": {},
   "outputs": [],
   "source": [
    "import tensorflow as tf"
   ]
  },
  {
   "cell_type": "code",
   "execution_count": 7,
   "id": "aa1b31e8-162b-4aeb-8a99-cec5a46b1558",
   "metadata": {},
   "outputs": [],
   "source": [
    "from torchvision import transforms\n",
    "from torch.utils.data import DataLoader, Dataset  # Import Dataset\n",
    "import os\n",
    "from PIL import Image"
   ]
  },
  {
   "cell_type": "code",
   "execution_count": 8,
   "id": "ebeea215-b4e7-4c71-a42b-ccc772e05283",
   "metadata": {},
   "outputs": [],
   "source": [
    "dimm_x = 128\n",
    "dimm_y = 256\n",
    "transform = transforms.Compose([\n",
    "            transforms.CenterCrop((dimm_x,dimm_y)),\n",
    "            transforms.RandomAffine(0,translate=(2/dimm_y,1/dimm_x)),\n",
    "            transforms.ToTensor(),\n",
    "            transforms.Normalize((0.5, 0.5, 0.5, 0.5), (0.5, 0.5, 0.5, 0.5))\n",
    "        ])"
   ]
  },
  {
   "cell_type": "code",
   "execution_count": 9,
   "id": "5aaabccb-b748-47d3-a295-476d56513aa2",
   "metadata": {},
   "outputs": [],
   "source": [
    "class RGBAImageDataset(Dataset):\n",
    "    def __init__(self, root_dir, transform=None):\n",
    "        self.root_dir = root_dir\n",
    "        self.transform = transform\n",
    "        self.image_files = [f for f in os.listdir(root_dir) if f.endswith('.png') or f.endswith('.jpg')]\n",
    "        self.real_len = len(self.image_files)\n",
    "\n",
    "    def __len__(self):\n",
    "        return self.real_len * 20\n",
    "\n",
    "    def __getitem__(self, idx):\n",
    "        img_path = os.path.join(self.root_dir, self.image_files[ idx % self.real_len ])\n",
    "        # image = Image.open(img_path).convert('RGBA')  # Ensure RGBA format\n",
    "        image = Image.open(img_path).convert('RGBA')  # Ensure RGBA format\n",
    "        if self.transform:\n",
    "            image = self.transform(image)\n",
    "        return image"
   ]
  },
  {
   "cell_type": "code",
   "execution_count": 10,
   "id": "faccf000-58c4-43e0-96f3-d924d5a1a4d5",
   "metadata": {},
   "outputs": [],
   "source": [
    "dd = RGBAImageDataset(\"images\", transform)"
   ]
  },
  {
   "cell_type": "code",
   "execution_count": 11,
   "id": "873819f8-1c25-409d-8b14-ac518494a909",
   "metadata": {},
   "outputs": [],
   "source": [
    "#X = np.ndarray((3000, *dd[0].shape),dtype=np.float32)\n",
    "X = np.ndarray((3000, 128,256,4),dtype=np.float32)\n",
    "for i in range(3000):\n",
    "    #X[i]=dd[i].numpy()\n",
    "    X[i]=np.moveaxis(dd[i].numpy(), 0, -1)"
   ]
  },
  {
   "cell_type": "code",
   "execution_count": 12,
   "id": "d9f850f4-386b-4481-871e-750e9538dda4",
   "metadata": {},
   "outputs": [
    {
     "data": {
      "text/plain": [
       "(3000, 128, 256, 4)"
      ]
     },
     "execution_count": 12,
     "metadata": {},
     "output_type": "execute_result"
    }
   ],
   "source": [
    "len(X)\n",
    "X.shape"
   ]
  },
  {
   "cell_type": "code",
   "execution_count": 13,
   "id": "75a87df2-81a9-47d6-bf24-218764fa01f4",
   "metadata": {},
   "outputs": [
    {
     "name": "stdout",
     "output_type": "stream",
     "text": [
      "<class 'numpy.ndarray'>\n",
      "Epoch 1/1000\n",
      "1350/1350 [==============================] - 13s 8ms/step - loss: 0.9771 - accuracy: 0.9503 - val_loss: 0.9752 - val_accuracy: 0.9537\n",
      "Epoch 2/1000\n",
      "1350/1350 [==============================] - 11s 8ms/step - loss: 0.9751 - accuracy: 0.9542 - val_loss: 0.9752 - val_accuracy: 0.9537\n",
      "Epoch 3/1000\n",
      "1350/1350 [==============================] - 11s 8ms/step - loss: 0.9751 - accuracy: 0.9542 - val_loss: 0.9752 - val_accuracy: 0.9537\n",
      "Epoch 4/1000\n",
      "1350/1350 [==============================] - 11s 8ms/step - loss: 0.9751 - accuracy: 0.9542 - val_loss: 0.9752 - val_accuracy: 0.9537\n",
      "Epoch 5/1000\n",
      "1350/1350 [==============================] - 10s 8ms/step - loss: 0.9751 - accuracy: 0.9542 - val_loss: 0.9752 - val_accuracy: 0.9537\n",
      "Epoch 6/1000\n",
      "1350/1350 [==============================] - 11s 8ms/step - loss: 0.9751 - accuracy: 0.9542 - val_loss: 0.9752 - val_accuracy: 0.9537\n",
      "Epoch 7/1000\n",
      "1350/1350 [==============================] - 11s 8ms/step - loss: 0.9751 - accuracy: 0.9542 - val_loss: 0.9752 - val_accuracy: 0.9537\n",
      "Epoch 8/1000\n",
      "1350/1350 [==============================] - 11s 8ms/step - loss: 0.9751 - accuracy: 0.9542 - val_loss: 0.9752 - val_accuracy: 0.9537\n",
      "Epoch 9/1000\n",
      "1350/1350 [==============================] - 11s 8ms/step - loss: 0.9751 - accuracy: 0.9542 - val_loss: 0.9752 - val_accuracy: 0.9537\n",
      "Epoch 10/1000\n",
      "1350/1350 [==============================] - 11s 8ms/step - loss: 0.9751 - accuracy: 0.9542 - val_loss: 0.9752 - val_accuracy: 0.9537\n",
      "Epoch 11/1000\n",
      "1350/1350 [==============================] - 11s 8ms/step - loss: 0.9751 - accuracy: 0.9542 - val_loss: 0.9752 - val_accuracy: 0.9537\n",
      "Epoch 12/1000\n",
      "1350/1350 [==============================] - 11s 8ms/step - loss: 0.9751 - accuracy: 0.9542 - val_loss: 0.9752 - val_accuracy: 0.9537\n",
      "Epoch 13/1000\n",
      "1350/1350 [==============================] - 11s 8ms/step - loss: 0.9751 - accuracy: 0.9542 - val_loss: 0.9752 - val_accuracy: 0.9537\n",
      "Epoch 14/1000\n",
      "1350/1350 [==============================] - 11s 8ms/step - loss: 0.9751 - accuracy: 0.9542 - val_loss: 0.9752 - val_accuracy: 0.9537\n",
      "Epoch 15/1000\n",
      "1350/1350 [==============================] - 11s 8ms/step - loss: 0.9751 - accuracy: 0.9542 - val_loss: 0.9752 - val_accuracy: 0.9537\n",
      "Epoch 16/1000\n",
      "1350/1350 [==============================] - 11s 8ms/step - loss: 0.9751 - accuracy: 0.9542 - val_loss: 0.9752 - val_accuracy: 0.9537\n",
      "Epoch 17/1000\n",
      "1350/1350 [==============================] - 11s 8ms/step - loss: 0.9751 - accuracy: 0.9542 - val_loss: 0.9752 - val_accuracy: 0.9537\n",
      "Epoch 18/1000\n",
      "1350/1350 [==============================] - 10s 8ms/step - loss: 0.9751 - accuracy: 0.9542 - val_loss: 0.9752 - val_accuracy: 0.9537\n",
      "Epoch 19/1000\n",
      "1350/1350 [==============================] - 11s 8ms/step - loss: 0.9751 - accuracy: 0.9542 - val_loss: 0.9752 - val_accuracy: 0.9537\n",
      "Epoch 20/1000\n",
      "1350/1350 [==============================] - 11s 8ms/step - loss: 0.9751 - accuracy: 0.9542 - val_loss: 0.9752 - val_accuracy: 0.9537\n",
      "Epoch 21/1000\n",
      "1350/1350 [==============================] - 11s 8ms/step - loss: 0.9751 - accuracy: 0.9542 - val_loss: 0.9752 - val_accuracy: 0.9537\n",
      "Epoch 22/1000\n",
      "1350/1350 [==============================] - 11s 8ms/step - loss: 0.9751 - accuracy: 0.9542 - val_loss: 0.9752 - val_accuracy: 0.9537\n",
      "Epoch 23/1000\n",
      "1350/1350 [==============================] - 10s 8ms/step - loss: 0.9751 - accuracy: 0.9542 - val_loss: 0.9752 - val_accuracy: 0.9537\n",
      "Epoch 24/1000\n",
      "1350/1350 [==============================] - 10s 8ms/step - loss: 0.9751 - accuracy: 0.9542 - val_loss: 0.9752 - val_accuracy: 0.9537\n",
      "Epoch 25/1000\n",
      "1350/1350 [==============================] - 10s 8ms/step - loss: 0.9751 - accuracy: 0.9542 - val_loss: 0.9752 - val_accuracy: 0.9537\n",
      "Epoch 26/1000\n",
      "1350/1350 [==============================] - 11s 8ms/step - loss: 0.9751 - accuracy: 0.9542 - val_loss: 0.9752 - val_accuracy: 0.9537\n",
      "Epoch 27/1000\n",
      "1350/1350 [==============================] - 11s 8ms/step - loss: 0.9751 - accuracy: 0.9542 - val_loss: 0.9752 - val_accuracy: 0.9537\n",
      "Epoch 28/1000\n",
      "1350/1350 [==============================] - 11s 8ms/step - loss: 0.9751 - accuracy: 0.9542 - val_loss: 0.9752 - val_accuracy: 0.9537\n",
      "Epoch 29/1000\n",
      "1350/1350 [==============================] - 10s 8ms/step - loss: 0.9751 - accuracy: 0.9542 - val_loss: 0.9752 - val_accuracy: 0.9537\n",
      "Epoch 30/1000\n",
      "1350/1350 [==============================] - 10s 8ms/step - loss: 0.9751 - accuracy: 0.9542 - val_loss: 0.9752 - val_accuracy: 0.9537\n",
      "Epoch 31/1000\n",
      "1350/1350 [==============================] - 10s 8ms/step - loss: 0.9751 - accuracy: 0.9542 - val_loss: 0.9752 - val_accuracy: 0.9537\n",
      "Epoch 32/1000\n",
      "1350/1350 [==============================] - 10s 8ms/step - loss: 0.9751 - accuracy: 0.9542 - val_loss: 0.9752 - val_accuracy: 0.9537\n",
      "Epoch 33/1000\n",
      "1350/1350 [==============================] - 10s 8ms/step - loss: 0.9751 - accuracy: 0.9542 - val_loss: 0.9752 - val_accuracy: 0.9537\n",
      "Epoch 34/1000\n",
      "1350/1350 [==============================] - 10s 8ms/step - loss: 0.9751 - accuracy: 0.9542 - val_loss: 0.9752 - val_accuracy: 0.9537\n",
      "Epoch 35/1000\n",
      "1350/1350 [==============================] - 10s 8ms/step - loss: 0.9751 - accuracy: 0.9542 - val_loss: 0.9752 - val_accuracy: 0.9537\n",
      "Epoch 36/1000\n",
      "1350/1350 [==============================] - 11s 8ms/step - loss: 0.9751 - accuracy: 0.9542 - val_loss: 0.9752 - val_accuracy: 0.9537\n",
      "Epoch 37/1000\n",
      "1350/1350 [==============================] - 10s 8ms/step - loss: 0.9751 - accuracy: 0.9542 - val_loss: 0.9752 - val_accuracy: 0.9537\n",
      "Epoch 38/1000\n",
      "1350/1350 [==============================] - 10s 8ms/step - loss: 0.9751 - accuracy: 0.9542 - val_loss: 0.9752 - val_accuracy: 0.9537\n",
      "Epoch 39/1000\n",
      "1350/1350 [==============================] - 10s 8ms/step - loss: 0.9751 - accuracy: 0.9542 - val_loss: 0.9752 - val_accuracy: 0.9537\n",
      "Epoch 40/1000\n",
      "1350/1350 [==============================] - 11s 8ms/step - loss: 0.9751 - accuracy: 0.9542 - val_loss: 0.9752 - val_accuracy: 0.9537\n",
      "Epoch 41/1000\n",
      "1350/1350 [==============================] - 10s 8ms/step - loss: 0.9751 - accuracy: 0.9542 - val_loss: 0.9752 - val_accuracy: 0.9537\n",
      "Epoch 42/1000\n",
      " 309/1350 [=====>........................] - ETA: 7s - loss: 0.9730 - accuracy: 0.9507"
     ]
    },
    {
     "ename": "KeyboardInterrupt",
     "evalue": "",
     "output_type": "error",
     "traceback": [
      "\u001b[1;31m---------------------------------------------------------------------------\u001b[0m",
      "\u001b[1;31mKeyboardInterrupt\u001b[0m                         Traceback (most recent call last)",
      "Cell \u001b[1;32mIn[13], line 3\u001b[0m\n\u001b[0;32m      1\u001b[0m ggg\u001b[38;5;241m=\u001b[39m dd[\u001b[38;5;241m0\u001b[39m]\n\u001b[0;32m      2\u001b[0m \u001b[38;5;28mprint\u001b[39m(\u001b[38;5;28mtype\u001b[39m(X[\u001b[38;5;241m0\u001b[39m]))\n\u001b[1;32m----> 3\u001b[0m \u001b[43mautoencoder\u001b[49m\u001b[38;5;241;43m.\u001b[39;49m\u001b[43mfit\u001b[49m\u001b[43m(\u001b[49m\u001b[43mX\u001b[49m\u001b[43m,\u001b[49m\u001b[43mX\u001b[49m\u001b[43m,\u001b[49m\n\u001b[0;32m      4\u001b[0m \u001b[43m         \u001b[49m\u001b[43mbatch_size\u001b[49m\u001b[38;5;241;43m=\u001b[39;49m\u001b[38;5;241;43m2\u001b[39;49m\u001b[43m,\u001b[49m\n\u001b[0;32m      5\u001b[0m \u001b[43m          \u001b[49m\u001b[43mepochs\u001b[49m\u001b[38;5;241;43m=\u001b[39;49m\u001b[38;5;241;43m1000\u001b[39;49m\u001b[43m,\u001b[49m\n\u001b[0;32m      6\u001b[0m \u001b[43m          \u001b[49m\u001b[43mvalidation_split\u001b[49m\u001b[38;5;241;43m=\u001b[39;49m\u001b[38;5;241;43m0.1\u001b[39;49m\u001b[43m)\u001b[49m\n",
      "File \u001b[1;32mC:\\Python310\\lib\\site-packages\\keras\\utils\\traceback_utils.py:65\u001b[0m, in \u001b[0;36mfilter_traceback.<locals>.error_handler\u001b[1;34m(*args, **kwargs)\u001b[0m\n\u001b[0;32m     63\u001b[0m filtered_tb \u001b[38;5;241m=\u001b[39m \u001b[38;5;28;01mNone\u001b[39;00m\n\u001b[0;32m     64\u001b[0m \u001b[38;5;28;01mtry\u001b[39;00m:\n\u001b[1;32m---> 65\u001b[0m     \u001b[38;5;28;01mreturn\u001b[39;00m fn(\u001b[38;5;241m*\u001b[39margs, \u001b[38;5;241m*\u001b[39m\u001b[38;5;241m*\u001b[39mkwargs)\n\u001b[0;32m     66\u001b[0m \u001b[38;5;28;01mexcept\u001b[39;00m \u001b[38;5;167;01mException\u001b[39;00m \u001b[38;5;28;01mas\u001b[39;00m e:\n\u001b[0;32m     67\u001b[0m     filtered_tb \u001b[38;5;241m=\u001b[39m _process_traceback_frames(e\u001b[38;5;241m.\u001b[39m__traceback__)\n",
      "File \u001b[1;32mC:\\Python310\\lib\\site-packages\\keras\\engine\\training.py:1570\u001b[0m, in \u001b[0;36mModel.fit\u001b[1;34m(self, x, y, batch_size, epochs, verbose, callbacks, validation_split, validation_data, shuffle, class_weight, sample_weight, initial_epoch, steps_per_epoch, validation_steps, validation_batch_size, validation_freq, max_queue_size, workers, use_multiprocessing)\u001b[0m\n\u001b[0;32m   1568\u001b[0m logs \u001b[38;5;241m=\u001b[39m tmp_logs\n\u001b[0;32m   1569\u001b[0m end_step \u001b[38;5;241m=\u001b[39m step \u001b[38;5;241m+\u001b[39m data_handler\u001b[38;5;241m.\u001b[39mstep_increment\n\u001b[1;32m-> 1570\u001b[0m \u001b[43mcallbacks\u001b[49m\u001b[38;5;241;43m.\u001b[39;49m\u001b[43mon_train_batch_end\u001b[49m\u001b[43m(\u001b[49m\u001b[43mend_step\u001b[49m\u001b[43m,\u001b[49m\u001b[43m \u001b[49m\u001b[43mlogs\u001b[49m\u001b[43m)\u001b[49m\n\u001b[0;32m   1571\u001b[0m \u001b[38;5;28;01mif\u001b[39;00m \u001b[38;5;28mself\u001b[39m\u001b[38;5;241m.\u001b[39mstop_training:\n\u001b[0;32m   1572\u001b[0m     \u001b[38;5;28;01mbreak\u001b[39;00m\n",
      "File \u001b[1;32mC:\\Python310\\lib\\site-packages\\keras\\callbacks.py:470\u001b[0m, in \u001b[0;36mCallbackList.on_train_batch_end\u001b[1;34m(self, batch, logs)\u001b[0m\n\u001b[0;32m    463\u001b[0m \u001b[38;5;250m\u001b[39m\u001b[38;5;124;03m\"\"\"Calls the `on_train_batch_end` methods of its callbacks.\u001b[39;00m\n\u001b[0;32m    464\u001b[0m \n\u001b[0;32m    465\u001b[0m \u001b[38;5;124;03mArgs:\u001b[39;00m\n\u001b[0;32m    466\u001b[0m \u001b[38;5;124;03m    batch: Integer, index of batch within the current epoch.\u001b[39;00m\n\u001b[0;32m    467\u001b[0m \u001b[38;5;124;03m    logs: Dict. Aggregated metric results up until this batch.\u001b[39;00m\n\u001b[0;32m    468\u001b[0m \u001b[38;5;124;03m\"\"\"\u001b[39;00m\n\u001b[0;32m    469\u001b[0m \u001b[38;5;28;01mif\u001b[39;00m \u001b[38;5;28mself\u001b[39m\u001b[38;5;241m.\u001b[39m_should_call_train_batch_hooks:\n\u001b[1;32m--> 470\u001b[0m     \u001b[38;5;28;43mself\u001b[39;49m\u001b[38;5;241;43m.\u001b[39;49m\u001b[43m_call_batch_hook\u001b[49m\u001b[43m(\u001b[49m\u001b[43mModeKeys\u001b[49m\u001b[38;5;241;43m.\u001b[39;49m\u001b[43mTRAIN\u001b[49m\u001b[43m,\u001b[49m\u001b[43m \u001b[49m\u001b[38;5;124;43m\"\u001b[39;49m\u001b[38;5;124;43mend\u001b[39;49m\u001b[38;5;124;43m\"\u001b[39;49m\u001b[43m,\u001b[49m\u001b[43m \u001b[49m\u001b[43mbatch\u001b[49m\u001b[43m,\u001b[49m\u001b[43m \u001b[49m\u001b[43mlogs\u001b[49m\u001b[38;5;241;43m=\u001b[39;49m\u001b[43mlogs\u001b[49m\u001b[43m)\u001b[49m\n",
      "File \u001b[1;32mC:\\Python310\\lib\\site-packages\\keras\\callbacks.py:317\u001b[0m, in \u001b[0;36mCallbackList._call_batch_hook\u001b[1;34m(self, mode, hook, batch, logs)\u001b[0m\n\u001b[0;32m    315\u001b[0m     \u001b[38;5;28mself\u001b[39m\u001b[38;5;241m.\u001b[39m_call_batch_begin_hook(mode, batch, logs)\n\u001b[0;32m    316\u001b[0m \u001b[38;5;28;01melif\u001b[39;00m hook \u001b[38;5;241m==\u001b[39m \u001b[38;5;124m\"\u001b[39m\u001b[38;5;124mend\u001b[39m\u001b[38;5;124m\"\u001b[39m:\n\u001b[1;32m--> 317\u001b[0m     \u001b[38;5;28;43mself\u001b[39;49m\u001b[38;5;241;43m.\u001b[39;49m\u001b[43m_call_batch_end_hook\u001b[49m\u001b[43m(\u001b[49m\u001b[43mmode\u001b[49m\u001b[43m,\u001b[49m\u001b[43m \u001b[49m\u001b[43mbatch\u001b[49m\u001b[43m,\u001b[49m\u001b[43m \u001b[49m\u001b[43mlogs\u001b[49m\u001b[43m)\u001b[49m\n\u001b[0;32m    318\u001b[0m \u001b[38;5;28;01melse\u001b[39;00m:\n\u001b[0;32m    319\u001b[0m     \u001b[38;5;28;01mraise\u001b[39;00m \u001b[38;5;167;01mValueError\u001b[39;00m(\n\u001b[0;32m    320\u001b[0m         \u001b[38;5;124mf\u001b[39m\u001b[38;5;124m\"\u001b[39m\u001b[38;5;124mUnrecognized hook: \u001b[39m\u001b[38;5;132;01m{\u001b[39;00mhook\u001b[38;5;132;01m}\u001b[39;00m\u001b[38;5;124m. \u001b[39m\u001b[38;5;124m\"\u001b[39m\n\u001b[0;32m    321\u001b[0m         \u001b[38;5;124m'\u001b[39m\u001b[38;5;124mExpected values are [\u001b[39m\u001b[38;5;124m\"\u001b[39m\u001b[38;5;124mbegin\u001b[39m\u001b[38;5;124m\"\u001b[39m\u001b[38;5;124m, \u001b[39m\u001b[38;5;124m\"\u001b[39m\u001b[38;5;124mend\u001b[39m\u001b[38;5;124m\"\u001b[39m\u001b[38;5;124m]\u001b[39m\u001b[38;5;124m'\u001b[39m\n\u001b[0;32m    322\u001b[0m     )\n",
      "File \u001b[1;32mC:\\Python310\\lib\\site-packages\\keras\\callbacks.py:340\u001b[0m, in \u001b[0;36mCallbackList._call_batch_end_hook\u001b[1;34m(self, mode, batch, logs)\u001b[0m\n\u001b[0;32m    337\u001b[0m     batch_time \u001b[38;5;241m=\u001b[39m time\u001b[38;5;241m.\u001b[39mtime() \u001b[38;5;241m-\u001b[39m \u001b[38;5;28mself\u001b[39m\u001b[38;5;241m.\u001b[39m_batch_start_time\n\u001b[0;32m    338\u001b[0m     \u001b[38;5;28mself\u001b[39m\u001b[38;5;241m.\u001b[39m_batch_times\u001b[38;5;241m.\u001b[39mappend(batch_time)\n\u001b[1;32m--> 340\u001b[0m \u001b[38;5;28;43mself\u001b[39;49m\u001b[38;5;241;43m.\u001b[39;49m\u001b[43m_call_batch_hook_helper\u001b[49m\u001b[43m(\u001b[49m\u001b[43mhook_name\u001b[49m\u001b[43m,\u001b[49m\u001b[43m \u001b[49m\u001b[43mbatch\u001b[49m\u001b[43m,\u001b[49m\u001b[43m \u001b[49m\u001b[43mlogs\u001b[49m\u001b[43m)\u001b[49m\n\u001b[0;32m    342\u001b[0m \u001b[38;5;28;01mif\u001b[39;00m \u001b[38;5;28mlen\u001b[39m(\u001b[38;5;28mself\u001b[39m\u001b[38;5;241m.\u001b[39m_batch_times) \u001b[38;5;241m>\u001b[39m\u001b[38;5;241m=\u001b[39m \u001b[38;5;28mself\u001b[39m\u001b[38;5;241m.\u001b[39m_num_batches_for_timing_check:\n\u001b[0;32m    343\u001b[0m     end_hook_name \u001b[38;5;241m=\u001b[39m hook_name\n",
      "File \u001b[1;32mC:\\Python310\\lib\\site-packages\\keras\\callbacks.py:388\u001b[0m, in \u001b[0;36mCallbackList._call_batch_hook_helper\u001b[1;34m(self, hook_name, batch, logs)\u001b[0m\n\u001b[0;32m    386\u001b[0m \u001b[38;5;28;01mfor\u001b[39;00m callback \u001b[38;5;129;01min\u001b[39;00m \u001b[38;5;28mself\u001b[39m\u001b[38;5;241m.\u001b[39mcallbacks:\n\u001b[0;32m    387\u001b[0m     hook \u001b[38;5;241m=\u001b[39m \u001b[38;5;28mgetattr\u001b[39m(callback, hook_name)\n\u001b[1;32m--> 388\u001b[0m     \u001b[43mhook\u001b[49m\u001b[43m(\u001b[49m\u001b[43mbatch\u001b[49m\u001b[43m,\u001b[49m\u001b[43m \u001b[49m\u001b[43mlogs\u001b[49m\u001b[43m)\u001b[49m\n\u001b[0;32m    390\u001b[0m \u001b[38;5;28;01mif\u001b[39;00m \u001b[38;5;28mself\u001b[39m\u001b[38;5;241m.\u001b[39m_check_timing:\n\u001b[0;32m    391\u001b[0m     \u001b[38;5;28;01mif\u001b[39;00m hook_name \u001b[38;5;129;01mnot\u001b[39;00m \u001b[38;5;129;01min\u001b[39;00m \u001b[38;5;28mself\u001b[39m\u001b[38;5;241m.\u001b[39m_hook_times:\n",
      "File \u001b[1;32mC:\\Python310\\lib\\site-packages\\keras\\callbacks.py:1081\u001b[0m, in \u001b[0;36mProgbarLogger.on_train_batch_end\u001b[1;34m(self, batch, logs)\u001b[0m\n\u001b[0;32m   1080\u001b[0m \u001b[38;5;28;01mdef\u001b[39;00m\u001b[38;5;250m \u001b[39m\u001b[38;5;21mon_train_batch_end\u001b[39m(\u001b[38;5;28mself\u001b[39m, batch, logs\u001b[38;5;241m=\u001b[39m\u001b[38;5;28;01mNone\u001b[39;00m):\n\u001b[1;32m-> 1081\u001b[0m     \u001b[38;5;28;43mself\u001b[39;49m\u001b[38;5;241;43m.\u001b[39;49m\u001b[43m_batch_update_progbar\u001b[49m\u001b[43m(\u001b[49m\u001b[43mbatch\u001b[49m\u001b[43m,\u001b[49m\u001b[43m \u001b[49m\u001b[43mlogs\u001b[49m\u001b[43m)\u001b[49m\n",
      "File \u001b[1;32mC:\\Python310\\lib\\site-packages\\keras\\callbacks.py:1157\u001b[0m, in \u001b[0;36mProgbarLogger._batch_update_progbar\u001b[1;34m(self, batch, logs)\u001b[0m\n\u001b[0;32m   1153\u001b[0m     \u001b[38;5;28mself\u001b[39m\u001b[38;5;241m.\u001b[39mseen \u001b[38;5;241m+\u001b[39m\u001b[38;5;241m=\u001b[39m add_seen\n\u001b[0;32m   1155\u001b[0m \u001b[38;5;28;01mif\u001b[39;00m \u001b[38;5;28mself\u001b[39m\u001b[38;5;241m.\u001b[39mverbose \u001b[38;5;241m==\u001b[39m \u001b[38;5;241m1\u001b[39m:\n\u001b[0;32m   1156\u001b[0m     \u001b[38;5;66;03m# Only block async when verbose = 1.\u001b[39;00m\n\u001b[1;32m-> 1157\u001b[0m     logs \u001b[38;5;241m=\u001b[39m \u001b[43mtf_utils\u001b[49m\u001b[38;5;241;43m.\u001b[39;49m\u001b[43msync_to_numpy_or_python_type\u001b[49m\u001b[43m(\u001b[49m\u001b[43mlogs\u001b[49m\u001b[43m)\u001b[49m\n\u001b[0;32m   1158\u001b[0m     \u001b[38;5;28mself\u001b[39m\u001b[38;5;241m.\u001b[39mprogbar\u001b[38;5;241m.\u001b[39mupdate(\u001b[38;5;28mself\u001b[39m\u001b[38;5;241m.\u001b[39mseen, \u001b[38;5;28mlist\u001b[39m(logs\u001b[38;5;241m.\u001b[39mitems()), finalize\u001b[38;5;241m=\u001b[39m\u001b[38;5;28;01mFalse\u001b[39;00m)\n",
      "File \u001b[1;32mC:\\Python310\\lib\\site-packages\\keras\\utils\\tf_utils.py:635\u001b[0m, in \u001b[0;36msync_to_numpy_or_python_type\u001b[1;34m(tensors)\u001b[0m\n\u001b[0;32m    632\u001b[0m         \u001b[38;5;28;01mreturn\u001b[39;00m t\n\u001b[0;32m    633\u001b[0m     \u001b[38;5;28;01mreturn\u001b[39;00m t\u001b[38;5;241m.\u001b[39mitem() \u001b[38;5;28;01mif\u001b[39;00m np\u001b[38;5;241m.\u001b[39mndim(t) \u001b[38;5;241m==\u001b[39m \u001b[38;5;241m0\u001b[39m \u001b[38;5;28;01melse\u001b[39;00m t\n\u001b[1;32m--> 635\u001b[0m \u001b[38;5;28;01mreturn\u001b[39;00m \u001b[43mtf\u001b[49m\u001b[38;5;241;43m.\u001b[39;49m\u001b[43mnest\u001b[49m\u001b[38;5;241;43m.\u001b[39;49m\u001b[43mmap_structure\u001b[49m\u001b[43m(\u001b[49m\u001b[43m_to_single_numpy_or_python_type\u001b[49m\u001b[43m,\u001b[49m\u001b[43m \u001b[49m\u001b[43mtensors\u001b[49m\u001b[43m)\u001b[49m\n",
      "File \u001b[1;32mC:\\Python310\\lib\\site-packages\\tensorflow\\python\\util\\nest.py:917\u001b[0m, in \u001b[0;36mmap_structure\u001b[1;34m(func, *structure, **kwargs)\u001b[0m\n\u001b[0;32m    913\u001b[0m flat_structure \u001b[38;5;241m=\u001b[39m (flatten(s, expand_composites) \u001b[38;5;28;01mfor\u001b[39;00m s \u001b[38;5;129;01min\u001b[39;00m structure)\n\u001b[0;32m    914\u001b[0m entries \u001b[38;5;241m=\u001b[39m \u001b[38;5;28mzip\u001b[39m(\u001b[38;5;241m*\u001b[39mflat_structure)\n\u001b[0;32m    916\u001b[0m \u001b[38;5;28;01mreturn\u001b[39;00m pack_sequence_as(\n\u001b[1;32m--> 917\u001b[0m     structure[\u001b[38;5;241m0\u001b[39m], [func(\u001b[38;5;241m*\u001b[39mx) \u001b[38;5;28;01mfor\u001b[39;00m x \u001b[38;5;129;01min\u001b[39;00m entries],\n\u001b[0;32m    918\u001b[0m     expand_composites\u001b[38;5;241m=\u001b[39mexpand_composites)\n",
      "File \u001b[1;32mC:\\Python310\\lib\\site-packages\\tensorflow\\python\\util\\nest.py:917\u001b[0m, in \u001b[0;36m<listcomp>\u001b[1;34m(.0)\u001b[0m\n\u001b[0;32m    913\u001b[0m flat_structure \u001b[38;5;241m=\u001b[39m (flatten(s, expand_composites) \u001b[38;5;28;01mfor\u001b[39;00m s \u001b[38;5;129;01min\u001b[39;00m structure)\n\u001b[0;32m    914\u001b[0m entries \u001b[38;5;241m=\u001b[39m \u001b[38;5;28mzip\u001b[39m(\u001b[38;5;241m*\u001b[39mflat_structure)\n\u001b[0;32m    916\u001b[0m \u001b[38;5;28;01mreturn\u001b[39;00m pack_sequence_as(\n\u001b[1;32m--> 917\u001b[0m     structure[\u001b[38;5;241m0\u001b[39m], [\u001b[43mfunc\u001b[49m\u001b[43m(\u001b[49m\u001b[38;5;241;43m*\u001b[39;49m\u001b[43mx\u001b[49m\u001b[43m)\u001b[49m \u001b[38;5;28;01mfor\u001b[39;00m x \u001b[38;5;129;01min\u001b[39;00m entries],\n\u001b[0;32m    918\u001b[0m     expand_composites\u001b[38;5;241m=\u001b[39mexpand_composites)\n",
      "File \u001b[1;32mC:\\Python310\\lib\\site-packages\\keras\\utils\\tf_utils.py:628\u001b[0m, in \u001b[0;36msync_to_numpy_or_python_type.<locals>._to_single_numpy_or_python_type\u001b[1;34m(t)\u001b[0m\n\u001b[0;32m    625\u001b[0m \u001b[38;5;28;01mdef\u001b[39;00m\u001b[38;5;250m \u001b[39m\u001b[38;5;21m_to_single_numpy_or_python_type\u001b[39m(t):\n\u001b[0;32m    626\u001b[0m     \u001b[38;5;66;03m# Don't turn ragged or sparse tensors to NumPy.\u001b[39;00m\n\u001b[0;32m    627\u001b[0m     \u001b[38;5;28;01mif\u001b[39;00m \u001b[38;5;28misinstance\u001b[39m(t, tf\u001b[38;5;241m.\u001b[39mTensor):\n\u001b[1;32m--> 628\u001b[0m         t \u001b[38;5;241m=\u001b[39m \u001b[43mt\u001b[49m\u001b[38;5;241;43m.\u001b[39;49m\u001b[43mnumpy\u001b[49m\u001b[43m(\u001b[49m\u001b[43m)\u001b[49m\n\u001b[0;32m    629\u001b[0m     \u001b[38;5;66;03m# Strings, ragged and sparse tensors don't have .item(). Return them\u001b[39;00m\n\u001b[0;32m    630\u001b[0m     \u001b[38;5;66;03m# as-is.\u001b[39;00m\n\u001b[0;32m    631\u001b[0m     \u001b[38;5;28;01mif\u001b[39;00m \u001b[38;5;129;01mnot\u001b[39;00m \u001b[38;5;28misinstance\u001b[39m(t, (np\u001b[38;5;241m.\u001b[39mndarray, np\u001b[38;5;241m.\u001b[39mgeneric)):\n",
      "File \u001b[1;32mC:\\Python310\\lib\\site-packages\\tensorflow\\python\\framework\\ops.py:1157\u001b[0m, in \u001b[0;36m_EagerTensorBase.numpy\u001b[1;34m(self)\u001b[0m\n\u001b[0;32m   1134\u001b[0m \u001b[38;5;250m\u001b[39m\u001b[38;5;124;03m\"\"\"Copy of the contents of this Tensor into a NumPy array or scalar.\u001b[39;00m\n\u001b[0;32m   1135\u001b[0m \n\u001b[0;32m   1136\u001b[0m \u001b[38;5;124;03mUnlike NumPy arrays, Tensors are immutable, so this method has to copy\u001b[39;00m\n\u001b[1;32m   (...)\u001b[0m\n\u001b[0;32m   1154\u001b[0m \u001b[38;5;124;03m    NumPy dtype.\u001b[39;00m\n\u001b[0;32m   1155\u001b[0m \u001b[38;5;124;03m\"\"\"\u001b[39;00m\n\u001b[0;32m   1156\u001b[0m \u001b[38;5;66;03m# TODO(slebedev): Consider avoiding a copy for non-CPU or remote tensors.\u001b[39;00m\n\u001b[1;32m-> 1157\u001b[0m maybe_arr \u001b[38;5;241m=\u001b[39m \u001b[38;5;28;43mself\u001b[39;49m\u001b[38;5;241;43m.\u001b[39;49m\u001b[43m_numpy\u001b[49m\u001b[43m(\u001b[49m\u001b[43m)\u001b[49m  \u001b[38;5;66;03m# pylint: disable=protected-access\u001b[39;00m\n\u001b[0;32m   1158\u001b[0m \u001b[38;5;28;01mreturn\u001b[39;00m maybe_arr\u001b[38;5;241m.\u001b[39mcopy() \u001b[38;5;28;01mif\u001b[39;00m \u001b[38;5;28misinstance\u001b[39m(maybe_arr, np\u001b[38;5;241m.\u001b[39mndarray) \u001b[38;5;28;01melse\u001b[39;00m maybe_arr\n",
      "File \u001b[1;32mC:\\Python310\\lib\\site-packages\\tensorflow\\python\\framework\\ops.py:1123\u001b[0m, in \u001b[0;36m_EagerTensorBase._numpy\u001b[1;34m(self)\u001b[0m\n\u001b[0;32m   1121\u001b[0m \u001b[38;5;28;01mdef\u001b[39;00m\u001b[38;5;250m \u001b[39m\u001b[38;5;21m_numpy\u001b[39m(\u001b[38;5;28mself\u001b[39m):\n\u001b[0;32m   1122\u001b[0m   \u001b[38;5;28;01mtry\u001b[39;00m:\n\u001b[1;32m-> 1123\u001b[0m     \u001b[38;5;28;01mreturn\u001b[39;00m \u001b[38;5;28;43mself\u001b[39;49m\u001b[38;5;241;43m.\u001b[39;49m\u001b[43m_numpy_internal\u001b[49m\u001b[43m(\u001b[49m\u001b[43m)\u001b[49m\n\u001b[0;32m   1124\u001b[0m   \u001b[38;5;28;01mexcept\u001b[39;00m core\u001b[38;5;241m.\u001b[39m_NotOkStatusException \u001b[38;5;28;01mas\u001b[39;00m e:  \u001b[38;5;66;03m# pylint: disable=protected-access\u001b[39;00m\n\u001b[0;32m   1125\u001b[0m     \u001b[38;5;28;01mraise\u001b[39;00m core\u001b[38;5;241m.\u001b[39m_status_to_exception(e) \u001b[38;5;28;01mfrom\u001b[39;00m\u001b[38;5;250m \u001b[39m\u001b[38;5;28;01mNone\u001b[39;00m\n",
      "\u001b[1;31mKeyboardInterrupt\u001b[0m: "
     ]
    }
   ],
   "source": [
    "ggg= dd[0]\n",
    "print(type(X[0]))\n",
    "autoencoder.fit(X,X,\n",
    "         batch_size=2,\n",
    "          epochs=1000,\n",
    "          validation_split=0.1)"
   ]
  },
  {
   "cell_type": "code",
   "execution_count": 14,
   "id": "40fdf467-7751-4369-aa35-67d7e344a4d6",
   "metadata": {},
   "outputs": [
    {
     "name": "stdout",
     "output_type": "stream",
     "text": [
      "1/1 [==============================] - 1s 620ms/step\n"
     ]
    }
   ],
   "source": [
    "res=autoencoder.predict(X[99:100,:,:,:])"
   ]
  },
  {
   "cell_type": "code",
   "execution_count": 15,
   "id": "0497d629-d4b3-4038-ab85-4c6aa104f0d4",
   "metadata": {},
   "outputs": [
    {
     "data": {
      "text/plain": [
       "(1, 128, 256, 4)"
      ]
     },
     "execution_count": 15,
     "metadata": {},
     "output_type": "execute_result"
    }
   ],
   "source": [
    "res.shape"
   ]
  },
  {
   "cell_type": "code",
   "execution_count": 16,
   "id": "ad46369e-16c5-46c4-b69d-f776e02da4ba",
   "metadata": {},
   "outputs": [
    {
     "data": {
      "text/plain": [
       "array([0., 0., 0., 0.], dtype=float32)"
      ]
     },
     "execution_count": 16,
     "metadata": {},
     "output_type": "execute_result"
    }
   ],
   "source": [
    "res[0][2][64]"
   ]
  },
  {
   "cell_type": "code",
   "execution_count": 17,
   "id": "90c59d2f-6768-49a7-8655-e527297ab488",
   "metadata": {},
   "outputs": [
    {
     "data": {
      "text/plain": [
       "<matplotlib.image.AxesImage at 0x1861c8bf850>"
      ]
     },
     "execution_count": 17,
     "metadata": {},
     "output_type": "execute_result"
    },
    {
     "data": {
      "image/png": "[encoded data removed]",
      "text/plain": [
       "<Figure size 640x480 with 1 Axes>"
      ]
     },
     "metadata": {},
     "output_type": "display_data"
    }
   ],
   "source": [
    "plt.imshow(tf.keras.preprocessing.image.array_to_img(X[99:100,:,:,:][0]))"
   ]
  },
  {
   "cell_type": "code",
   "execution_count": 18,
   "id": "33807630-e44f-4539-be11-6327c32887f5",
   "metadata": {},
   "outputs": [
    {
     "data": {
      "text/plain": [
       "<matplotlib.image.AxesImage at 0x1861cade7a0>"
      ]
     },
     "execution_count": 18,
     "metadata": {},
     "output_type": "execute_result"
    },
    {
     "data": {
      "image/png": "[encoded data removed]",
      "text/plain": [
       "<Figure size 640x480 with 1 Axes>"
      ]
     },
     "metadata": {},
     "output_type": "display_data"
    }
   ],
   "source": [
    "plt.imshow(tf.keras.preprocessing.image.array_to_img(res[:1,:,:,:][0]))"
   ]
  },
  {
   "cell_type": "code",
   "execution_count": null,
   "id": "0f28b54e-9744-4d95-b82f-94df2d7114be",
   "metadata": {},
   "outputs": [],
   "source": []
  }
 ],
 "metadata": {
  "kernelspec": {
   "display_name": "Python 3 (ipykernel)",
   "language": "python",
   "name": "python3"
  },
  "language_info": {
   "codemirror_mode": {
    "name": "ipython",
    "version": 3
   },
   "file_extension": ".py",
   "mimetype": "text/x-python",
   "name": "python",
   "nbconvert_exporter": "python",
   "pygments_lexer": "ipython3",
   "version": "3.10.7"
  }
 },
 "nbformat": 4,
 "nbformat_minor": 5
}
